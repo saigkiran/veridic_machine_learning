{
 "cells": [
  {
   "cell_type": "markdown",
   "metadata": {},
   "source": [
    "# Question 1\n",
    "# Given an integer,n perform the following conditional actions: Take the input from keyboard using input() function If n is odd, print Weird If n is even and in the inclusive range of 2 to 5, print Not Weird If n is even and in the inclusive range of 6 to 20, print Weird If n is even and greater than 20, print Not Weird."
   ]
  },
  {
   "cell_type": "code",
   "execution_count": null,
   "metadata": {},
   "outputs": [],
   "source": [
    "n = int(input(\"Enter an integer\"))\n",
    "if n%2==0:\n",
    "    if 2<=n<=5:\n",
    "        print(\"Not Weird\")\n",
    "    if 6<=n<=20:\n",
    "        print(\"Weird\")\n",
    "    if n>20:\n",
    "        print(\"Not weird\")\n",
    "else:\n",
    "    print(\"wierd\")\n",
    "    \n",
    "   \n",
    "  "
   ]
  },
  {
   "cell_type": "markdown",
   "metadata": {},
   "source": [
    "# Question 2\n",
    "# Assign 10 to the variable x and 25 to the variable y. In the same cell, create 2 conditional statements.Let the first one print \"Both conditions are correct\" if x is greater then 3 and y is greater than 13. Let the second one print \"At least one of the conditions is false\" if x is less than or equal to 3 and y is less than or equal to 13.Change the values assigned to x and y and re-run the cell to verify your code still works."
   ]
  },
  {
   "cell_type": "code",
   "execution_count": null,
   "metadata": {
    "scrolled": true
   },
   "outputs": [],
   "source": [
    "x = 10\n",
    "y = 25\n",
    "if x>3 and y>13:\n",
    "    print(\"Both conditions are correct\")\n",
    "if bool (x<=3 and y<=13) ==0: #used bool and equated it to 0 as both conditions are false.\n",
    "    print(\"At least one of the conditions is false \")"
   ]
  },
  {
   "cell_type": "markdown",
   "metadata": {},
   "source": [
    "# Question 3\n",
    "# Print all elements of a list using 'for' loop list = ['23', 'name', 'age', 'veridic', 'python', 'data']"
   ]
  },
  {
   "cell_type": "code",
   "execution_count": null,
   "metadata": {},
   "outputs": [],
   "source": [
    "li = ['23', 'name', 'age', 'veridic' ,'python', 'data']\n",
    "for items in li:\n",
    "    print(items)"
   ]
  },
  {
   "cell_type": "markdown",
   "metadata": {},
   "source": [
    "# Question - 4:\n",
    "\n",
    "# Take inputs from user to make a list. Again take one input from user and search it in the list and delete that element, if found. Iterate over list using for loop"
   ]
  },
  {
   "cell_type": "code",
   "execution_count": null,
   "metadata": {},
   "outputs": [],
   "source": [
    "li = []\n",
    "list_length = 2\n",
    "while len(li) < list_length:\n",
    "    list_item = input(\"Enter items for the list li \\t\")\n",
    "    li.append(list_item)\n",
    "    print(\"Entered list is : {}\".format(li))\n",
    "search_item = input(\"Enter item to search in list li \\t\")\n",
    "\n",
    "if search_item in li:\n",
    "    search_item_index = li.index(search_item)\n",
    "    print(\"Item is found at index: {}\".format(li.index(search_item)))\n",
    "    li.pop(search_item_index)\n",
    "    print(\"New_list after removing search_item is: {} \".format(li))\n",
    "else:\n",
    "    print(\"Item not found in the list\")\n",
    "\n",
    "\n"
   ]
  },
  {
   "cell_type": "markdown",
   "metadata": {},
   "source": [
    "# Question 5\n",
    "# Print multiplication table of 14 print it as 14 * 1 = 14 and continue till 20 times?"
   ]
  },
  {
   "cell_type": "code",
   "execution_count": null,
   "metadata": {},
   "outputs": [],
   "source": [
    "i=1\n",
    "while True:\n",
    "  if i <= 20:\n",
    "   print(\"14 * {} = ({})\".format(i,14*i))\n",
    "   i +=1"
   ]
  },
  {
   "cell_type": "markdown",
   "metadata": {},
   "source": [
    "# Question - 6\n",
    "\n",
    "# You are given with a list of integer elements. Make a new list which will store square of elements of previous list. \n",
    "# list = [2, 4, 5, 6, 7, 8, 19, 34, 45, 56, 12, 65, 88, 92, 100]"
   ]
  },
  {
   "cell_type": "code",
   "execution_count": null,
   "metadata": {
    "scrolled": true
   },
   "outputs": [],
   "source": [
    "list = [2, 4, 5, 6, 7, 8, 19, 34, 45, 56, 12, 65, 88, 92, 100]\n",
    "list2= []\n",
    "for i in list:\n",
    "    list2.append(i*i)\n"
   ]
  },
  {
   "cell_type": "code",
   "execution_count": null,
   "metadata": {},
   "outputs": [],
   "source": []
  }
 ],
 "metadata": {
  "kernelspec": {
   "display_name": "Python 3",
   "language": "python",
   "name": "python3"
  },
  "language_info": {
   "codemirror_mode": {
    "name": "ipython",
    "version": 3
   },
   "file_extension": ".py",
   "mimetype": "text/x-python",
   "name": "python",
   "nbconvert_exporter": "python",
   "pygments_lexer": "ipython3",
   "version": "3.6.4"
  }
 },
 "nbformat": 4,
 "nbformat_minor": 2
}
